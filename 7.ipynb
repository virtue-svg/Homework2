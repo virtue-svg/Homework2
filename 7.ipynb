{
 "cells": [
  {
   "cell_type": "code",
   "execution_count": 25,
   "metadata": {},
   "outputs": [
    {
     "data": {
      "text/plain": [
       "59"
      ]
     },
     "execution_count": 25,
     "metadata": {},
     "output_type": "execute_result"
    }
   ],
   "source": [
    "# 提示用户输入一系列用空格分隔的数字\n",
    "input_str = input(\"请输入一个数组，用空格分隔：\")\n",
    "# 使用 split() 方法分割字符串\n",
    "array_str = input_str.split()\n",
    "# 将字符串列表转换为整数列表\n",
    "array = list(map(int,array_str))\n",
    "\n",
    "def return_second_max(array):\n",
    "    # 当数组长度小于2时，不存在第二个值\n",
    "    if len(array) <2:\n",
    "        return -1\n",
    "    else:\n",
    "        # 初始化两个值为负无穷\n",
    "        first_max = second_max = float('-inf')\n",
    "        # 遍历数组中每个数字\n",
    "        for i in range(len(array)):\n",
    "            # 当数字大于first_max时，先将原first_max的值赋给second_max,再将它赋给first_max\n",
    "            if array[i] >first_max:\n",
    "                second_max = first_max\n",
    "                first_max = array[i]\n",
    "            \n",
    "            # 当数字大于second_max但小于first_max时,更新second_max的值\n",
    "            if array[i] > second_max and array[i] < first_max:\n",
    "                second_max = array[i]\n",
    "        \n",
    "        # 当数字等于first_max时，不作任何处理，因此若数组中每个元素都相同时，second_max在遍历后，值仍为负无穷\n",
    "        if second_max == float('-inf'):\n",
    "            return -1\n",
    "        # 正常情况下，可直接返回次最大值\n",
    "        else:\n",
    "            return second_max\n",
    "\n",
    "return_second_max(array)\n",
    "            \n",
    "\n"
   ]
  }
 ],
 "metadata": {
  "kernelspec": {
   "display_name": "Python 3",
   "language": "python",
   "name": "python3"
  },
  "language_info": {
   "codemirror_mode": {
    "name": "ipython",
    "version": 3
   },
   "file_extension": ".py",
   "mimetype": "text/x-python",
   "name": "python",
   "nbconvert_exporter": "python",
   "pygments_lexer": "ipython3",
   "version": "3.12.2"
  }
 },
 "nbformat": 4,
 "nbformat_minor": 2
}
