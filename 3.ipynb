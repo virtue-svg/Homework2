{
 "cells": [
  {
   "cell_type": "code",
   "execution_count": 8,
   "metadata": {},
   "outputs": [
    {
     "name": "stdout",
     "output_type": "stream",
     "text": [
      "0.5由十进制小数转化为二进制小数是：0.1\n"
     ]
    }
   ],
   "source": [
    "\n",
    "def trans_decimal(x):\n",
    "    # 创造一个空字符串，用于储存十进制小数部分的数字\n",
    "    binary_frac=\"\"\n",
    "    # 当x小于0时，将其先转化为正数进行转换，最后添加-即可\n",
    "    if x<0:\n",
    "        return '-'+trans_decimal(-x)\n",
    "    # 当x等于0时，直接返回0\n",
    "    if x==0:\n",
    "        return 0\n",
    "    \n",
    "    # 当转换结果得到1.0时，进1并结束整个转换过程；\n",
    "    # 通过限制字符串长度的方式，来强制提前结束较长的转换过程\n",
    "    while x!=1.0 and len(binary_frac)<10:\n",
    "        x *=2\n",
    "        # 若个位数为1，进1，取小数部分参与下一次迭代\n",
    "        if x>1:\n",
    "            x -=1\n",
    "            binary_frac+='1'\n",
    "        # 若个位数为0，进0，小数参与下一次迭代\n",
    "        elif 0<x<1:\n",
    "            binary_frac+='0'\n",
    "    # 由于转换得到1.0时循环终止，因此需要补进1\n",
    "    if x==1.0:\n",
    "        binary_frac+='1'\n",
    "    # 将生成的二进制位与小数点组合，形成最终的二进制小数字符串 \n",
    "    binary_decimal= '0.'+binary_frac\n",
    "    return binary_decimal\n",
    "\n",
    "\n",
    "decimal= float(input(\"请输入一个小数：\"))\n",
    "print(f\"{decimal}由十进制小数转化为二进制小数是：{trans_decimal(decimal)}\")"
   ]
  },
  {
   "cell_type": "code",
   "execution_count": 14,
   "metadata": {},
   "outputs": [
    {
     "name": "stdout",
     "output_type": "stream",
     "text": [
      "十进制小数 0.625 转换为二进制小数是：0.101\n"
     ]
    }
   ],
   "source": [
    "def decimal_to_binary(decimal):\n",
    "    # 处理负数\n",
    "    if decimal < 0:\n",
    "        return '-' + decimal_to_binary(-decimal)\n",
    "\n",
    "    # 处理整数部分\n",
    "    integer_part = int(decimal)\n",
    "    binary_integer = ''\n",
    "    if integer_part > 0:\n",
    "        while integer_part > 0:\n",
    "            integer_part, remainder = divmod(integer_part, 2)\n",
    "            binary_integer = str(remainder) + binary_integer\n",
    "\n",
    "    # 处理小数部分\n",
    "    binary_frac = ''\n",
    "    decimal_frac = decimal - int(decimal)\n",
    "    while decimal_frac > 0 and len(binary_frac) < 10:  # 限制小数位数\n",
    "        decimal_frac *= 2\n",
    "        bit = int(decimal_frac)\n",
    "        binary_frac += str(bit)\n",
    "        decimal_frac -= bit\n",
    "\n",
    "    # 组合整数和小数部分\n",
    "    if binary_integer != '':\n",
    "        return binary_integer + '.' + binary_frac\n",
    "    else:\n",
    "        return '0.' + binary_frac if binary_frac else '0'\n",
    "\n",
    "# 获取用户输入的十进制小数\n",
    "decimal_number = float(input(\"请输入一个十进制小数：\"))\n",
    "binary_number = decimal_to_binary(decimal_number)\n",
    "print(f\"十进制小数 {decimal_number} 转换为二进制小数是：{binary_number}\")"
   ]
  }
 ],
 "metadata": {
  "kernelspec": {
   "display_name": "Python 3",
   "language": "python",
   "name": "python3"
  },
  "language_info": {
   "codemirror_mode": {
    "name": "ipython",
    "version": 3
   },
   "file_extension": ".py",
   "mimetype": "text/x-python",
   "name": "python",
   "nbconvert_exporter": "python",
   "pygments_lexer": "ipython3",
   "version": "3.12.2"
  }
 },
 "nbformat": 4,
 "nbformat_minor": 2
}
