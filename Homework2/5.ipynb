{
 "cells": [
  {
   "cell_type": "code",
   "execution_count": 3,
   "metadata": {},
   "outputs": [
    {
     "name": "stdout",
     "output_type": "stream",
     "text": [
      "65456是回文数\n"
     ]
    }
   ],
   "source": [
    "\n",
    "# 获取用户输入的整数字符串\n",
    "num_str=(input(\"请输入一个整数：\"))\n",
    "# 初始化头尾两个指针\n",
    "i=0\n",
    "j=len(num_str)-1\n",
    "\n",
    "# 从头尾两端向中间，逐个检查每个数字是否对应相同\n",
    "while(i<j):\n",
    "    # 如果有不对应的数字，则可判断其不是回文数，退出循环\n",
    "    if num_str[i] != num_str[j]:\n",
    "        print(f\"{num_str}不是回文数\")\n",
    "        break\n",
    "    i=i+1\n",
    "    j=j-1\n",
    "# 如果循环正常结束，则说明是回文数\n",
    "if i>=j:\n",
    "    print(f\"{num_str}是回文数\")\n",
    "\n"
   ]
  },
  {
   "cell_type": "code",
   "execution_count": 4,
   "metadata": {},
   "outputs": [
    {
     "name": "stdout",
     "output_type": "stream",
     "text": [
      "32123是回文数\n"
     ]
    }
   ],
   "source": [
    "# 获取用户输入的整数字符串\n",
    "num_str=(input(\"请输入一个整数：\"))\n",
    "\n",
    "def palindrome(n):\n",
    "    # 检查字符串的前半部分，是否与后半部分匹配\n",
    "    for i in range(len(n)//2):\n",
    "        # 负索引表示从字符串末尾开始计数，所以n[-1]表示字符串最后一个字符，再逐个向前遍历\n",
    "        if n[i] != n[-(i+1)]:\n",
    "            print(f\"{n}不是回文数\")\n",
    "            break\n",
    "    \n",
    "    print(f\"{n}是回文数\")\n",
    "\n",
    "palindrome(num_str)"
   ]
  }
 ],
 "metadata": {
  "kernelspec": {
   "display_name": "Python 3",
   "language": "python",
   "name": "python3"
  },
  "language_info": {
   "codemirror_mode": {
    "name": "ipython",
    "version": 3
   },
   "file_extension": ".py",
   "mimetype": "text/x-python",
   "name": "python",
   "nbconvert_exporter": "python",
   "pygments_lexer": "ipython3",
   "version": "3.12.2"
  }
 },
 "nbformat": 4,
 "nbformat_minor": 2
}
