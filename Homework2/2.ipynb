{
 "cells": [
  {
   "cell_type": "code",
   "execution_count": 2,
   "metadata": {},
   "outputs": [
    {
     "name": "stdout",
     "output_type": "stream",
     "text": [
      "输入错误,成绩应在0-100之间,请重新输入\n",
      "输入错误,成绩应在0-100之间,请重新输入\n",
      "你的成绩等级是B\n"
     ]
    }
   ],
   "source": [
    "while True:\n",
    "    # 提示用户输入成绩\n",
    "    score=float(input(\"请输入你的成绩：\"))\n",
    "    try:\n",
    "        # 若输入成绩违反常识\n",
    "        if score<0 or score>100:\n",
    "            print(\"输入错误,成绩应在0-100之间,请重新输入\")\n",
    "            continue #跳过该次循环，直接进行下一次迭代，提醒用户输入正确成绩\n",
    "\n",
    "        # 输入成绩正常时，按等级分类\n",
    "        elif score>=0 and score<60:\n",
    "            grade='D'\n",
    "        elif score>=60 and score<75:\n",
    "            grade='C'\n",
    "        elif score>=75 and score<90:\n",
    "            grade='B'\n",
    "        elif score>=90:\n",
    "            grade='A'\n",
    "\n",
    "        print(f\"你的成绩等级是{grade}\")\n",
    "        break # 成绩正确，跳出循环\n",
    "\n",
    "    except ValueError:\n",
    "        print(\"输入错误,请输入一个有效的数字\")\n",
    "     \n",
    "\n",
    "\n",
    "   \n",
    "\n",
    "\n",
    "    \n",
    "    \n",
    "\n",
    "\n",
    "       "
   ]
  }
 ],
 "metadata": {
  "kernelspec": {
   "display_name": "Python 3",
   "language": "python",
   "name": "python3"
  },
  "language_info": {
   "codemirror_mode": {
    "name": "ipython",
    "version": 3
   },
   "file_extension": ".py",
   "mimetype": "text/x-python",
   "name": "python",
   "nbconvert_exporter": "python",
   "pygments_lexer": "ipython3",
   "version": "3.12.2"
  }
 },
 "nbformat": 4,
 "nbformat_minor": 2
}
