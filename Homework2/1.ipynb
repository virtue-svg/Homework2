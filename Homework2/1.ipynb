{
 "cells": [
  {
   "cell_type": "code",
   "execution_count": 2,
   "metadata": {},
   "outputs": [
    {
     "name": "stdout",
     "output_type": "stream",
     "text": [
      "95与25的最大公约数是5\n"
     ]
    }
   ],
   "source": [
    "# 输入两个正整数\n",
    "a = int(input(\"请输入一个正整数：\"))\n",
    "b = int(input(\"请输入另一个正整数：\"))\n",
    "\n",
    "\n",
    "# 分两种情况,从1开始检查所有元素,直至两者中的较小值\n",
    "if a >= b:\n",
    "    for i in range(1,b+1):\n",
    "        if a % i ==0 and b % i ==0:\n",
    "            max=i  # 更新max的值,最终得到的即为最大公约数\n",
    "else:\n",
    "    for j in range(1,a+1):\n",
    "        if a % j ==0 and b % j ==0:\n",
    "            max=j\n",
    "\n",
    "print(f\"{a}与{b}的最大公约数是{max}\")\n",
    "\n"
   ]
  },
  {
   "cell_type": "code",
   "execution_count": 3,
   "metadata": {},
   "outputs": [
    {
     "name": "stdout",
     "output_type": "stream",
     "text": [
      "95与25的最大公约数是5\n"
     ]
    }
   ],
   "source": [
    "# 输入两个正整数\n",
    "a = int(input(\"请输入一个正整数：\"))\n",
    "b = int(input(\"请输入另一个正整数：\"))\n",
    "\n",
    "# 令a>=b, 使得检索时只需考虑一种情况\n",
    "if a<b:\n",
    "    a,b = b,a\n",
    "\n",
    "\n",
    "max = 1\n",
    "# 同上,但此时a>=b,只需考虑一种情况\n",
    "for i in range(1,b+1):\n",
    "    if a%i==0 and b%i==0:\n",
    "        max=i\n",
    "\n",
    "print(f\"{a}与{b}的最大公约数是{max}\")"
   ]
  },
  {
   "cell_type": "code",
   "execution_count": 4,
   "metadata": {},
   "outputs": [
    {
     "name": "stdout",
     "output_type": "stream",
     "text": [
      "39与26的最大公约数是13\n"
     ]
    }
   ],
   "source": [
    "# 输入两个正整数\n",
    "a = int(input(\"请输入一个正整数：\"))\n",
    "b = int(input(\"请输入另一个正整数：\"))\n",
    "\n",
    "# 令a>=b, 使得检索时只需考虑一种情况\n",
    "if a<b:\n",
    "    a,b = b,a\n",
    "\n",
    "# 利用欧几里得算法：\n",
    "# 两个正整数 a 和 b（假设 a > b）的最大公约数与 a 和 b 的差的最大公约数相同。\n",
    "# 更一般地，a 和 b 的最大公约数与 a 和 a % b（a 除以 b 的余数）的最大公约数相同。\n",
    "def gcb(x,y):\n",
    "    # 当b!=0时，利用多重赋值不断更新a与b的值\n",
    "    while y != 0:\n",
    "        x,y = y,x%y\n",
    "    # 最终a的值即为最大公约数\n",
    "    return x\n",
    "\n",
    "\n",
    "max=gcb(a,b)\n",
    "print(f\"{a}与{b}的最大公约数是{max}\")"
   ]
  }
 ],
 "metadata": {
  "kernelspec": {
   "display_name": "Python 3",
   "language": "python",
   "name": "python3"
  },
  "language_info": {
   "codemirror_mode": {
    "name": "ipython",
    "version": 3
   },
   "file_extension": ".py",
   "mimetype": "text/x-python",
   "name": "python",
   "nbconvert_exporter": "python",
   "pygments_lexer": "ipython3",
   "version": "3.12.2"
  }
 },
 "nbformat": 4,
 "nbformat_minor": 2
}
