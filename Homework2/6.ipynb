{
 "cells": [
  {
   "cell_type": "code",
   "execution_count": 1,
   "metadata": {},
   "outputs": [
    {
     "name": "stdout",
     "output_type": "stream",
     "text": [
      "0 1 1 2 3 5 8 13 21 34 "
     ]
    }
   ],
   "source": [
    "# 提示用户输入要生成的斐波那契数列的数字个数，并将其转换为整数。\n",
    "n=int(input(\"请输入要输出的数字个数：\"))\n",
    "# 初始化\n",
    "fibo_0=0\n",
    "fibo_1=1\n",
    "# 检查n是否正确\n",
    "if n<=0:\n",
    "    print(\"error\")\n",
    "# 当n=1时，只输出第一个数字\n",
    "if n==1:\n",
    "    print(0)\n",
    "if n>=2:\n",
    "    # 打印前两个数字，并在同一行继续打印\n",
    "    print(fibo_0,fibo_1,end=\" \")\n",
    "\n",
    "    for i in range(2,n):\n",
    "        # 使用临时变量t来保存fibo_0的值\n",
    "        t= fibo_0\n",
    "        # 更新fibo_0与fibo_1的值\n",
    "        fibo_0 = fibo_1\n",
    "        fibo_1 = t + fibo_0\n",
    "        # 打印更新后的fibo_1的值(其实是数列下一个数字)\n",
    "        print(fibo_1,end=\" \")\n",
    "\n"
   ]
  },
  {
   "cell_type": "code",
   "execution_count": 2,
   "metadata": {},
   "outputs": [
    {
     "name": "stdout",
     "output_type": "stream",
     "text": [
      "[0, 1, 1, 2, 3, 5, 8, 13, 21, 34]\n"
     ]
    }
   ],
   "source": [
    "def fibonacci(n):\n",
    "    fibo_list=[0,1]\n",
    "\n",
    "    if n<=0:\n",
    "        # 函数中使用return语句返回一个空队列\n",
    "        return []\n",
    "    if n==1:\n",
    "        return [0]\n",
    "    if n>=2:\n",
    "        for i in range(2, n):\n",
    "            # 将队列中最后两个数字相加，即得到数列的下一个数字\n",
    "            next_fibo = fibo_list[-1] + fibo_list[-2]\n",
    "            # 将这个数字再添加到队列末尾\n",
    "            fibo_list.append(next_fibo)\n",
    "        # 最终返回的是一个有n个数字的队列    \n",
    "        return fibo_list\n",
    "    \n",
    "# 提示用户输入要生成的斐波那契数列的数字个数，并将其转换为整数。\n",
    "n=int(input(\"请输入要输出的数字个数：\"))\n",
    "\n",
    "print(fibonacci(n))\n",
    "\n",
    "\n",
    "\n",
    "\n"
   ]
  },
  {
   "cell_type": "code",
   "execution_count": null,
   "metadata": {},
   "outputs": [],
   "source": []
  }
 ],
 "metadata": {
  "kernelspec": {
   "display_name": "Python 3",
   "language": "python",
   "name": "python3"
  },
  "language_info": {
   "codemirror_mode": {
    "name": "ipython",
    "version": 3
   },
   "file_extension": ".py",
   "mimetype": "text/x-python",
   "name": "python",
   "nbconvert_exporter": "python",
   "pygments_lexer": "ipython3",
   "version": "3.12.2"
  }
 },
 "nbformat": 4,
 "nbformat_minor": 2
}
